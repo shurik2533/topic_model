{
 "cells": [
  {
   "cell_type": "code",
   "execution_count": 64,
   "metadata": {
    "collapsed": false
   },
   "outputs": [
    {
     "name": "stdout",
     "output_type": "stream",
     "text": [
      "new stast_from 200/416158562_180\n",
      "new stast_from 403/2318609_2351\n",
      "new stast_from 611/442227503_2\n",
      "new stast_from 818/-56558737_556913\n",
      "Finish\n"
     ]
    }
   ],
   "source": [
    "import requests\n",
    "import pickledb \n",
    "\n",
    "\n",
    "db = pickledb.load('/home/shurik2533/Yandex.Disk/vk_hh.db', False) \n",
    "\n",
    "start_from = None\n",
    "while True:\n",
    "    r = requests.get(\n",
    "        url='https://api.vk.com/method/newsfeed.search?v=5.52',\n",
    "        params={\n",
    "            'access_token': '91ddf3463201e27ee7832605e1f351e49a29f76d5cf47173c920f747158e8eaeb13de02378b9a27d4de08',\n",
    "            'count': 200, #max200\n",
    "            'q': 'HeadHunter',\n",
    "            'start_from': start_from\n",
    "\n",
    "        },\n",
    "        stream=True\n",
    "    )\n",
    "\n",
    "    news = r.json()['response'] \n",
    "\n",
    "    for item in news['items']:\n",
    "        db.set(str(item['id']), item)\n",
    "\n",
    "    db.dump()\n",
    "    if 'next_from' in news:\n",
    "        start_from = news['next_from']\n",
    "        print 'new stast_from', start_from\n",
    "    else:\n",
    "        print 'Finish'\n",
    "        break\n",
    "    "
   ]
  },
  {
   "cell_type": "code",
   "execution_count": 65,
   "metadata": {
    "collapsed": false
   },
   "outputs": [
    {
     "data": {
      "text/plain": [
       "920"
      ]
     },
     "execution_count": 65,
     "metadata": {},
     "output_type": "execute_result"
    }
   ],
   "source": [
    "len(db.getall())"
   ]
  }
 ],
 "metadata": {
  "kernelspec": {
   "display_name": "Python 2",
   "language": "python",
   "name": "python2"
  },
  "language_info": {
   "codemirror_mode": {
    "name": "ipython",
    "version": 2
   },
   "file_extension": ".py",
   "mimetype": "text/x-python",
   "name": "python",
   "nbconvert_exporter": "python",
   "pygments_lexer": "ipython2",
   "version": "2.7.12"
  }
 },
 "nbformat": 4,
 "nbformat_minor": 0
}
